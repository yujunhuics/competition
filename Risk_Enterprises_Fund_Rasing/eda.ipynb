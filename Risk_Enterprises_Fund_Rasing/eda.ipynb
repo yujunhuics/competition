{
 "metadata": {
  "language_info": {
   "codemirror_mode": {
    "name": "ipython",
    "version": 3
   },
   "file_extension": ".py",
   "mimetype": "text/x-python",
   "name": "python",
   "nbconvert_exporter": "python",
   "pygments_lexer": "ipython3",
   "version": "3.8.3-final"
  },
  "orig_nbformat": 2,
  "kernelspec": {
   "name": "Python 3.8.3 64-bit ('base': conda)",
   "display_name": "Python 3.8.3 64-bit ('base': conda)",
   "metadata": {
    "interpreter": {
     "hash": "0f7647c46a52d8262372530390fd76d13f7e40a8839f16696d0952a5bea40762"
    }
   }
  }
 },
 "nbformat": 4,
 "nbformat_minor": 2,
 "cells": [
  {
   "cell_type": "markdown",
   "metadata": {},
   "source": [
    "## CCF: 企业非法集资风险预测"
   ]
  },
  {
   "cell_type": "code",
   "execution_count": 2,
   "metadata": {},
   "outputs": [],
   "source": [
    "import time\n",
    "import math\n",
    "import warnings\n",
    "import numpy as np\n",
    "import pandas as pd\n",
    "import lightgbm as lgb\n",
    "from util import *\n",
    "\n",
    "t_base_info = \"./dataset/train/base_info.csv\"\n",
    "t_annual_report_info = \"./dataset/train/annual_report_info.csv\"\n",
    "t_tax_info = \"./dataset/train/tax_info.csv\"\n",
    "t_change_info = \"./dataset/train/change_info.csv\"\n",
    "t_news_info = \"./dataset/train/news_info.csv\"\n",
    "t_other_info = \"./dataset/train/other_info.csv\"\n",
    "t_entprise_info = \"./dataset/train/entprise_info.csv\" # train labeled data"
   ]
  },
  {
   "cell_type": "code",
   "execution_count": 3,
   "metadata": {
    "tags": []
   },
   "outputs": [],
   "source": [
    "# print(\"Reading...\")\n",
    "# base_info = pd.read_csv('dataset/train/base_info.csv')\n",
    "# base_info.info()"
   ]
  },
  {
   "source": [
    "### entprise_info"
   ],
   "cell_type": "markdown",
   "metadata": {}
  },
  {
   "cell_type": "code",
   "execution_count": 4,
   "metadata": {},
   "outputs": [
    {
     "output_type": "stream",
     "name": "stdout",
     "text": [
      "<class 'pandas.core.frame.DataFrame'>\nRangeIndex: 14865 entries, 0 to 14864\nData columns (total 2 columns):\n #   Column  Non-Null Count  Dtype \n---  ------  --------------  ----- \n 0   id      14865 non-null  object\n 1   label   14865 non-null  int64 \ndtypes: int64(1), object(1)\nmemory usage: 232.4+ KB\nNone\n(14865, 2)\n"
     ]
    }
   ],
   "source": [
    "df_label_info = pd.read_csv(t_entprise_info, header=0)\n",
    "\n",
    "print(df_label_info.info())\n",
    "print(df_label_info.shape)"
   ]
  },
  {
   "cell_type": "code",
   "execution_count": 5,
   "metadata": {},
   "outputs": [
    {
     "output_type": "stream",
     "name": "stdout",
     "text": [
      "标签类别数  [1 0]\n训练企业数量  14865\n0    13884\n1      981\nName: label, dtype: int64\n8f19388cfd6e2b9cf0514566e39fefeebab9a32f7ba7bb85    1\n8f19388cfd6e2b9c5fa6bdd58b634184d76c01f2d4d8d2d2    1\nd8071a739aa75a3b56565f5510af4ee6274971a92bd9151f    1\n59b38c56de3836834a590a0d08175f6ed4eb8bbcafbe692d    1\nbeb4aaaa89e0a0aef16d63c5aa3aefc959dc25c2096d0637    1\n                                                   ..\nd8071a739aa75a3b0d0baef68ccca70c2c94f1ad9a1ed7a0    1\n47645761dc56bb8c9c77bc249441a8cb5f1a176f2d596a5d    1\n216bd2aaf4d07924d3d6fc122a30ee47b608f782a8f4791b    1\n59b38c56de383683004280ff43e105e5d55f112855cad5bf    1\nf000950527a6feb6eefd07cc621c088f02afa948ed7fc197    1\nName: id, Length: 14865, dtype: int64\n"
     ]
    },
    {
     "output_type": "execute_result",
     "data": {
      "text/plain": [
       "<matplotlib.axes._subplots.AxesSubplot at 0x1d3f691c190>"
      ]
     },
     "metadata": {},
     "execution_count": 5
    },
    {
     "output_type": "display_data",
     "data": {
      "text/plain": "<Figure size 432x288 with 1 Axes>",
      "image/svg+xml": "<?xml version=\"1.0\" encoding=\"utf-8\" standalone=\"no\"?>\r\n<!DOCTYPE svg PUBLIC \"-//W3C//DTD SVG 1.1//EN\"\r\n  \"http://www.w3.org/Graphics/SVG/1.1/DTD/svg11.dtd\">\r\n<!-- Created with matplotlib (https://matplotlib.org/) -->\r\n<svg height=\"248.518125pt\" version=\"1.1\" viewBox=\"0 0 388.0125 248.518125\" width=\"388.0125pt\" xmlns=\"http://www.w3.org/2000/svg\" xmlns:xlink=\"http://www.w3.org/1999/xlink\">\r\n <defs>\r\n  <style type=\"text/css\">\r\n*{stroke-linecap:butt;stroke-linejoin:round;}\r\n  </style>\r\n </defs>\r\n <g id=\"figure_1\">\r\n  <g id=\"patch_1\">\r\n   <path d=\"M 0 248.518125 \r\nL 388.0125 248.518125 \r\nL 388.0125 0 \r\nL 0 0 \r\nz\r\n\" style=\"fill:none;\"/>\r\n  </g>\r\n  <g id=\"axes_1\">\r\n   <g id=\"patch_2\">\r\n    <path d=\"M 46.0125 224.64 \r\nL 380.8125 224.64 \r\nL 380.8125 7.2 \r\nL 46.0125 7.2 \r\nz\r\n\" style=\"fill:#ffffff;\"/>\r\n   </g>\r\n   <g id=\"patch_3\">\r\n    <path clip-path=\"url(#p5ae88d722a)\" d=\"M 61.230682 224.64 \r\nL 213.4125 224.64 \r\nL 213.4125 17.554286 \r\nL 61.230682 17.554286 \r\nz\r\n\" style=\"fill:#1f77b4;\"/>\r\n   </g>\r\n   <g id=\"patch_4\">\r\n    <path clip-path=\"url(#p5ae88d722a)\" d=\"M 213.4125 224.64 \r\nL 365.594318 224.64 \r\nL 365.594318 210.007971 \r\nL 213.4125 210.007971 \r\nz\r\n\" style=\"fill:#1f77b4;\"/>\r\n   </g>\r\n   <g id=\"matplotlib.axis_1\">\r\n    <g id=\"xtick_1\">\r\n     <g id=\"line2d_1\">\r\n      <path clip-path=\"url(#p5ae88d722a)\" d=\"M 61.230682 224.64 \r\nL 61.230682 7.2 \r\n\" style=\"fill:none;stroke:#b0b0b0;stroke-linecap:square;stroke-width:0.8;\"/>\r\n     </g>\r\n     <g id=\"line2d_2\">\r\n      <defs>\r\n       <path d=\"M 0 0 \r\nL 0 3.5 \r\n\" id=\"m0e87993a93\" style=\"stroke:#000000;stroke-width:0.8;\"/>\r\n      </defs>\r\n      <g>\r\n       <use style=\"stroke:#000000;stroke-width:0.8;\" x=\"61.230682\" xlink:href=\"#m0e87993a93\" y=\"224.64\"/>\r\n      </g>\r\n     </g>\r\n     <g id=\"text_1\">\r\n      <!-- 0.0 -->\r\n      <defs>\r\n       <path d=\"M 31.78125 66.40625 \r\nQ 24.171875 66.40625 20.328125 58.90625 \r\nQ 16.5 51.421875 16.5 36.375 \r\nQ 16.5 21.390625 20.328125 13.890625 \r\nQ 24.171875 6.390625 31.78125 6.390625 \r\nQ 39.453125 6.390625 43.28125 13.890625 \r\nQ 47.125 21.390625 47.125 36.375 \r\nQ 47.125 51.421875 43.28125 58.90625 \r\nQ 39.453125 66.40625 31.78125 66.40625 \r\nz\r\nM 31.78125 74.21875 \r\nQ 44.046875 74.21875 50.515625 64.515625 \r\nQ 56.984375 54.828125 56.984375 36.375 \r\nQ 56.984375 17.96875 50.515625 8.265625 \r\nQ 44.046875 -1.421875 31.78125 -1.421875 \r\nQ 19.53125 -1.421875 13.0625 8.265625 \r\nQ 6.59375 17.96875 6.59375 36.375 \r\nQ 6.59375 54.828125 13.0625 64.515625 \r\nQ 19.53125 74.21875 31.78125 74.21875 \r\nz\r\n\" id=\"DejaVuSans-48\"/>\r\n       <path d=\"M 10.6875 12.40625 \r\nL 21 12.40625 \r\nL 21 0 \r\nL 10.6875 0 \r\nz\r\n\" id=\"DejaVuSans-46\"/>\r\n      </defs>\r\n      <g transform=\"translate(53.279119 239.238437)scale(0.1 -0.1)\">\r\n       <use xlink:href=\"#DejaVuSans-48\"/>\r\n       <use x=\"63.623047\" xlink:href=\"#DejaVuSans-46\"/>\r\n       <use x=\"95.410156\" xlink:href=\"#DejaVuSans-48\"/>\r\n      </g>\r\n     </g>\r\n    </g>\r\n    <g id=\"xtick_2\">\r\n     <g id=\"line2d_3\">\r\n      <path clip-path=\"url(#p5ae88d722a)\" d=\"M 122.103409 224.64 \r\nL 122.103409 7.2 \r\n\" style=\"fill:none;stroke:#b0b0b0;stroke-linecap:square;stroke-width:0.8;\"/>\r\n     </g>\r\n     <g id=\"line2d_4\">\r\n      <g>\r\n       <use style=\"stroke:#000000;stroke-width:0.8;\" x=\"122.103409\" xlink:href=\"#m0e87993a93\" y=\"224.64\"/>\r\n      </g>\r\n     </g>\r\n     <g id=\"text_2\">\r\n      <!-- 0.2 -->\r\n      <defs>\r\n       <path d=\"M 19.1875 8.296875 \r\nL 53.609375 8.296875 \r\nL 53.609375 0 \r\nL 7.328125 0 \r\nL 7.328125 8.296875 \r\nQ 12.9375 14.109375 22.625 23.890625 \r\nQ 32.328125 33.6875 34.8125 36.53125 \r\nQ 39.546875 41.84375 41.421875 45.53125 \r\nQ 43.3125 49.21875 43.3125 52.78125 \r\nQ 43.3125 58.59375 39.234375 62.25 \r\nQ 35.15625 65.921875 28.609375 65.921875 \r\nQ 23.96875 65.921875 18.8125 64.3125 \r\nQ 13.671875 62.703125 7.8125 59.421875 \r\nL 7.8125 69.390625 \r\nQ 13.765625 71.78125 18.9375 73 \r\nQ 24.125 74.21875 28.421875 74.21875 \r\nQ 39.75 74.21875 46.484375 68.546875 \r\nQ 53.21875 62.890625 53.21875 53.421875 \r\nQ 53.21875 48.921875 51.53125 44.890625 \r\nQ 49.859375 40.875 45.40625 35.40625 \r\nQ 44.1875 33.984375 37.640625 27.21875 \r\nQ 31.109375 20.453125 19.1875 8.296875 \r\nz\r\n\" id=\"DejaVuSans-50\"/>\r\n      </defs>\r\n      <g transform=\"translate(114.151847 239.238437)scale(0.1 -0.1)\">\r\n       <use xlink:href=\"#DejaVuSans-48\"/>\r\n       <use x=\"63.623047\" xlink:href=\"#DejaVuSans-46\"/>\r\n       <use x=\"95.410156\" xlink:href=\"#DejaVuSans-50\"/>\r\n      </g>\r\n     </g>\r\n    </g>\r\n    <g id=\"xtick_3\">\r\n     <g id=\"line2d_5\">\r\n      <path clip-path=\"url(#p5ae88d722a)\" d=\"M 182.976136 224.64 \r\nL 182.976136 7.2 \r\n\" style=\"fill:none;stroke:#b0b0b0;stroke-linecap:square;stroke-width:0.8;\"/>\r\n     </g>\r\n     <g id=\"line2d_6\">\r\n      <g>\r\n       <use style=\"stroke:#000000;stroke-width:0.8;\" x=\"182.976136\" xlink:href=\"#m0e87993a93\" y=\"224.64\"/>\r\n      </g>\r\n     </g>\r\n     <g id=\"text_3\">\r\n      <!-- 0.4 -->\r\n      <defs>\r\n       <path d=\"M 37.796875 64.3125 \r\nL 12.890625 25.390625 \r\nL 37.796875 25.390625 \r\nz\r\nM 35.203125 72.90625 \r\nL 47.609375 72.90625 \r\nL 47.609375 25.390625 \r\nL 58.015625 25.390625 \r\nL 58.015625 17.1875 \r\nL 47.609375 17.1875 \r\nL 47.609375 0 \r\nL 37.796875 0 \r\nL 37.796875 17.1875 \r\nL 4.890625 17.1875 \r\nL 4.890625 26.703125 \r\nz\r\n\" id=\"DejaVuSans-52\"/>\r\n      </defs>\r\n      <g transform=\"translate(175.024574 239.238437)scale(0.1 -0.1)\">\r\n       <use xlink:href=\"#DejaVuSans-48\"/>\r\n       <use x=\"63.623047\" xlink:href=\"#DejaVuSans-46\"/>\r\n       <use x=\"95.410156\" xlink:href=\"#DejaVuSans-52\"/>\r\n      </g>\r\n     </g>\r\n    </g>\r\n    <g id=\"xtick_4\">\r\n     <g id=\"line2d_7\">\r\n      <path clip-path=\"url(#p5ae88d722a)\" d=\"M 243.848864 224.64 \r\nL 243.848864 7.2 \r\n\" style=\"fill:none;stroke:#b0b0b0;stroke-linecap:square;stroke-width:0.8;\"/>\r\n     </g>\r\n     <g id=\"line2d_8\">\r\n      <g>\r\n       <use style=\"stroke:#000000;stroke-width:0.8;\" x=\"243.848864\" xlink:href=\"#m0e87993a93\" y=\"224.64\"/>\r\n      </g>\r\n     </g>\r\n     <g id=\"text_4\">\r\n      <!-- 0.6 -->\r\n      <defs>\r\n       <path d=\"M 33.015625 40.375 \r\nQ 26.375 40.375 22.484375 35.828125 \r\nQ 18.609375 31.296875 18.609375 23.390625 \r\nQ 18.609375 15.53125 22.484375 10.953125 \r\nQ 26.375 6.390625 33.015625 6.390625 \r\nQ 39.65625 6.390625 43.53125 10.953125 \r\nQ 47.40625 15.53125 47.40625 23.390625 \r\nQ 47.40625 31.296875 43.53125 35.828125 \r\nQ 39.65625 40.375 33.015625 40.375 \r\nz\r\nM 52.59375 71.296875 \r\nL 52.59375 62.3125 \r\nQ 48.875 64.0625 45.09375 64.984375 \r\nQ 41.3125 65.921875 37.59375 65.921875 \r\nQ 27.828125 65.921875 22.671875 59.328125 \r\nQ 17.53125 52.734375 16.796875 39.40625 \r\nQ 19.671875 43.65625 24.015625 45.921875 \r\nQ 28.375 48.1875 33.59375 48.1875 \r\nQ 44.578125 48.1875 50.953125 41.515625 \r\nQ 57.328125 34.859375 57.328125 23.390625 \r\nQ 57.328125 12.15625 50.6875 5.359375 \r\nQ 44.046875 -1.421875 33.015625 -1.421875 \r\nQ 20.359375 -1.421875 13.671875 8.265625 \r\nQ 6.984375 17.96875 6.984375 36.375 \r\nQ 6.984375 53.65625 15.1875 63.9375 \r\nQ 23.390625 74.21875 37.203125 74.21875 \r\nQ 40.921875 74.21875 44.703125 73.484375 \r\nQ 48.484375 72.75 52.59375 71.296875 \r\nz\r\n\" id=\"DejaVuSans-54\"/>\r\n      </defs>\r\n      <g transform=\"translate(235.897301 239.238437)scale(0.1 -0.1)\">\r\n       <use xlink:href=\"#DejaVuSans-48\"/>\r\n       <use x=\"63.623047\" xlink:href=\"#DejaVuSans-46\"/>\r\n       <use x=\"95.410156\" xlink:href=\"#DejaVuSans-54\"/>\r\n      </g>\r\n     </g>\r\n    </g>\r\n    <g id=\"xtick_5\">\r\n     <g id=\"line2d_9\">\r\n      <path clip-path=\"url(#p5ae88d722a)\" d=\"M 304.721591 224.64 \r\nL 304.721591 7.2 \r\n\" style=\"fill:none;stroke:#b0b0b0;stroke-linecap:square;stroke-width:0.8;\"/>\r\n     </g>\r\n     <g id=\"line2d_10\">\r\n      <g>\r\n       <use style=\"stroke:#000000;stroke-width:0.8;\" x=\"304.721591\" xlink:href=\"#m0e87993a93\" y=\"224.64\"/>\r\n      </g>\r\n     </g>\r\n     <g id=\"text_5\">\r\n      <!-- 0.8 -->\r\n      <defs>\r\n       <path d=\"M 31.78125 34.625 \r\nQ 24.75 34.625 20.71875 30.859375 \r\nQ 16.703125 27.09375 16.703125 20.515625 \r\nQ 16.703125 13.921875 20.71875 10.15625 \r\nQ 24.75 6.390625 31.78125 6.390625 \r\nQ 38.8125 6.390625 42.859375 10.171875 \r\nQ 46.921875 13.96875 46.921875 20.515625 \r\nQ 46.921875 27.09375 42.890625 30.859375 \r\nQ 38.875 34.625 31.78125 34.625 \r\nz\r\nM 21.921875 38.8125 \r\nQ 15.578125 40.375 12.03125 44.71875 \r\nQ 8.5 49.078125 8.5 55.328125 \r\nQ 8.5 64.0625 14.71875 69.140625 \r\nQ 20.953125 74.21875 31.78125 74.21875 \r\nQ 42.671875 74.21875 48.875 69.140625 \r\nQ 55.078125 64.0625 55.078125 55.328125 \r\nQ 55.078125 49.078125 51.53125 44.71875 \r\nQ 48 40.375 41.703125 38.8125 \r\nQ 48.828125 37.15625 52.796875 32.3125 \r\nQ 56.78125 27.484375 56.78125 20.515625 \r\nQ 56.78125 9.90625 50.3125 4.234375 \r\nQ 43.84375 -1.421875 31.78125 -1.421875 \r\nQ 19.734375 -1.421875 13.25 4.234375 \r\nQ 6.78125 9.90625 6.78125 20.515625 \r\nQ 6.78125 27.484375 10.78125 32.3125 \r\nQ 14.796875 37.15625 21.921875 38.8125 \r\nz\r\nM 18.3125 54.390625 \r\nQ 18.3125 48.734375 21.84375 45.5625 \r\nQ 25.390625 42.390625 31.78125 42.390625 \r\nQ 38.140625 42.390625 41.71875 45.5625 \r\nQ 45.3125 48.734375 45.3125 54.390625 \r\nQ 45.3125 60.0625 41.71875 63.234375 \r\nQ 38.140625 66.40625 31.78125 66.40625 \r\nQ 25.390625 66.40625 21.84375 63.234375 \r\nQ 18.3125 60.0625 18.3125 54.390625 \r\nz\r\n\" id=\"DejaVuSans-56\"/>\r\n      </defs>\r\n      <g transform=\"translate(296.770028 239.238437)scale(0.1 -0.1)\">\r\n       <use xlink:href=\"#DejaVuSans-48\"/>\r\n       <use x=\"63.623047\" xlink:href=\"#DejaVuSans-46\"/>\r\n       <use x=\"95.410156\" xlink:href=\"#DejaVuSans-56\"/>\r\n      </g>\r\n     </g>\r\n    </g>\r\n    <g id=\"xtick_6\">\r\n     <g id=\"line2d_11\">\r\n      <path clip-path=\"url(#p5ae88d722a)\" d=\"M 365.594318 224.64 \r\nL 365.594318 7.2 \r\n\" style=\"fill:none;stroke:#b0b0b0;stroke-linecap:square;stroke-width:0.8;\"/>\r\n     </g>\r\n     <g id=\"line2d_12\">\r\n      <g>\r\n       <use style=\"stroke:#000000;stroke-width:0.8;\" x=\"365.594318\" xlink:href=\"#m0e87993a93\" y=\"224.64\"/>\r\n      </g>\r\n     </g>\r\n     <g id=\"text_6\">\r\n      <!-- 1.0 -->\r\n      <defs>\r\n       <path d=\"M 12.40625 8.296875 \r\nL 28.515625 8.296875 \r\nL 28.515625 63.921875 \r\nL 10.984375 60.40625 \r\nL 10.984375 69.390625 \r\nL 28.421875 72.90625 \r\nL 38.28125 72.90625 \r\nL 38.28125 8.296875 \r\nL 54.390625 8.296875 \r\nL 54.390625 0 \r\nL 12.40625 0 \r\nz\r\n\" id=\"DejaVuSans-49\"/>\r\n      </defs>\r\n      <g transform=\"translate(357.642756 239.238437)scale(0.1 -0.1)\">\r\n       <use xlink:href=\"#DejaVuSans-49\"/>\r\n       <use x=\"63.623047\" xlink:href=\"#DejaVuSans-46\"/>\r\n       <use x=\"95.410156\" xlink:href=\"#DejaVuSans-48\"/>\r\n      </g>\r\n     </g>\r\n    </g>\r\n   </g>\r\n   <g id=\"matplotlib.axis_2\">\r\n    <g id=\"ytick_1\">\r\n     <g id=\"line2d_13\">\r\n      <path clip-path=\"url(#p5ae88d722a)\" d=\"M 46.0125 224.64 \r\nL 380.8125 224.64 \r\n\" style=\"fill:none;stroke:#b0b0b0;stroke-linecap:square;stroke-width:0.8;\"/>\r\n     </g>\r\n     <g id=\"line2d_14\">\r\n      <defs>\r\n       <path d=\"M 0 0 \r\nL -3.5 0 \r\n\" id=\"mbec9b9b278\" style=\"stroke:#000000;stroke-width:0.8;\"/>\r\n      </defs>\r\n      <g>\r\n       <use style=\"stroke:#000000;stroke-width:0.8;\" x=\"46.0125\" xlink:href=\"#mbec9b9b278\" y=\"224.64\"/>\r\n      </g>\r\n     </g>\r\n     <g id=\"text_7\">\r\n      <!-- 0 -->\r\n      <g transform=\"translate(32.65 228.439219)scale(0.1 -0.1)\">\r\n       <use xlink:href=\"#DejaVuSans-48\"/>\r\n      </g>\r\n     </g>\r\n    </g>\r\n    <g id=\"ytick_2\">\r\n     <g id=\"line2d_15\">\r\n      <path clip-path=\"url(#p5ae88d722a)\" d=\"M 46.0125 194.809157 \r\nL 380.8125 194.809157 \r\n\" style=\"fill:none;stroke:#b0b0b0;stroke-linecap:square;stroke-width:0.8;\"/>\r\n     </g>\r\n     <g id=\"line2d_16\">\r\n      <g>\r\n       <use style=\"stroke:#000000;stroke-width:0.8;\" x=\"46.0125\" xlink:href=\"#mbec9b9b278\" y=\"194.809157\"/>\r\n      </g>\r\n     </g>\r\n     <g id=\"text_8\">\r\n      <!-- 2000 -->\r\n      <g transform=\"translate(13.5625 198.608375)scale(0.1 -0.1)\">\r\n       <use xlink:href=\"#DejaVuSans-50\"/>\r\n       <use x=\"63.623047\" xlink:href=\"#DejaVuSans-48\"/>\r\n       <use x=\"127.246094\" xlink:href=\"#DejaVuSans-48\"/>\r\n       <use x=\"190.869141\" xlink:href=\"#DejaVuSans-48\"/>\r\n      </g>\r\n     </g>\r\n    </g>\r\n    <g id=\"ytick_3\">\r\n     <g id=\"line2d_17\">\r\n      <path clip-path=\"url(#p5ae88d722a)\" d=\"M 46.0125 164.978313 \r\nL 380.8125 164.978313 \r\n\" style=\"fill:none;stroke:#b0b0b0;stroke-linecap:square;stroke-width:0.8;\"/>\r\n     </g>\r\n     <g id=\"line2d_18\">\r\n      <g>\r\n       <use style=\"stroke:#000000;stroke-width:0.8;\" x=\"46.0125\" xlink:href=\"#mbec9b9b278\" y=\"164.978313\"/>\r\n      </g>\r\n     </g>\r\n     <g id=\"text_9\">\r\n      <!-- 4000 -->\r\n      <g transform=\"translate(13.5625 168.777532)scale(0.1 -0.1)\">\r\n       <use xlink:href=\"#DejaVuSans-52\"/>\r\n       <use x=\"63.623047\" xlink:href=\"#DejaVuSans-48\"/>\r\n       <use x=\"127.246094\" xlink:href=\"#DejaVuSans-48\"/>\r\n       <use x=\"190.869141\" xlink:href=\"#DejaVuSans-48\"/>\r\n      </g>\r\n     </g>\r\n    </g>\r\n    <g id=\"ytick_4\">\r\n     <g id=\"line2d_19\">\r\n      <path clip-path=\"url(#p5ae88d722a)\" d=\"M 46.0125 135.14747 \r\nL 380.8125 135.14747 \r\n\" style=\"fill:none;stroke:#b0b0b0;stroke-linecap:square;stroke-width:0.8;\"/>\r\n     </g>\r\n     <g id=\"line2d_20\">\r\n      <g>\r\n       <use style=\"stroke:#000000;stroke-width:0.8;\" x=\"46.0125\" xlink:href=\"#mbec9b9b278\" y=\"135.14747\"/>\r\n      </g>\r\n     </g>\r\n     <g id=\"text_10\">\r\n      <!-- 6000 -->\r\n      <g transform=\"translate(13.5625 138.946689)scale(0.1 -0.1)\">\r\n       <use xlink:href=\"#DejaVuSans-54\"/>\r\n       <use x=\"63.623047\" xlink:href=\"#DejaVuSans-48\"/>\r\n       <use x=\"127.246094\" xlink:href=\"#DejaVuSans-48\"/>\r\n       <use x=\"190.869141\" xlink:href=\"#DejaVuSans-48\"/>\r\n      </g>\r\n     </g>\r\n    </g>\r\n    <g id=\"ytick_5\">\r\n     <g id=\"line2d_21\">\r\n      <path clip-path=\"url(#p5ae88d722a)\" d=\"M 46.0125 105.316627 \r\nL 380.8125 105.316627 \r\n\" style=\"fill:none;stroke:#b0b0b0;stroke-linecap:square;stroke-width:0.8;\"/>\r\n     </g>\r\n     <g id=\"line2d_22\">\r\n      <g>\r\n       <use style=\"stroke:#000000;stroke-width:0.8;\" x=\"46.0125\" xlink:href=\"#mbec9b9b278\" y=\"105.316627\"/>\r\n      </g>\r\n     </g>\r\n     <g id=\"text_11\">\r\n      <!-- 8000 -->\r\n      <g transform=\"translate(13.5625 109.115845)scale(0.1 -0.1)\">\r\n       <use xlink:href=\"#DejaVuSans-56\"/>\r\n       <use x=\"63.623047\" xlink:href=\"#DejaVuSans-48\"/>\r\n       <use x=\"127.246094\" xlink:href=\"#DejaVuSans-48\"/>\r\n       <use x=\"190.869141\" xlink:href=\"#DejaVuSans-48\"/>\r\n      </g>\r\n     </g>\r\n    </g>\r\n    <g id=\"ytick_6\">\r\n     <g id=\"line2d_23\">\r\n      <path clip-path=\"url(#p5ae88d722a)\" d=\"M 46.0125 75.485783 \r\nL 380.8125 75.485783 \r\n\" style=\"fill:none;stroke:#b0b0b0;stroke-linecap:square;stroke-width:0.8;\"/>\r\n     </g>\r\n     <g id=\"line2d_24\">\r\n      <g>\r\n       <use style=\"stroke:#000000;stroke-width:0.8;\" x=\"46.0125\" xlink:href=\"#mbec9b9b278\" y=\"75.485783\"/>\r\n      </g>\r\n     </g>\r\n     <g id=\"text_12\">\r\n      <!-- 10000 -->\r\n      <g transform=\"translate(7.2 79.285002)scale(0.1 -0.1)\">\r\n       <use xlink:href=\"#DejaVuSans-49\"/>\r\n       <use x=\"63.623047\" xlink:href=\"#DejaVuSans-48\"/>\r\n       <use x=\"127.246094\" xlink:href=\"#DejaVuSans-48\"/>\r\n       <use x=\"190.869141\" xlink:href=\"#DejaVuSans-48\"/>\r\n       <use x=\"254.492188\" xlink:href=\"#DejaVuSans-48\"/>\r\n      </g>\r\n     </g>\r\n    </g>\r\n    <g id=\"ytick_7\">\r\n     <g id=\"line2d_25\">\r\n      <path clip-path=\"url(#p5ae88d722a)\" d=\"M 46.0125 45.65494 \r\nL 380.8125 45.65494 \r\n\" style=\"fill:none;stroke:#b0b0b0;stroke-linecap:square;stroke-width:0.8;\"/>\r\n     </g>\r\n     <g id=\"line2d_26\">\r\n      <g>\r\n       <use style=\"stroke:#000000;stroke-width:0.8;\" x=\"46.0125\" xlink:href=\"#mbec9b9b278\" y=\"45.65494\"/>\r\n      </g>\r\n     </g>\r\n     <g id=\"text_13\">\r\n      <!-- 12000 -->\r\n      <g transform=\"translate(7.2 49.454159)scale(0.1 -0.1)\">\r\n       <use xlink:href=\"#DejaVuSans-49\"/>\r\n       <use x=\"63.623047\" xlink:href=\"#DejaVuSans-50\"/>\r\n       <use x=\"127.246094\" xlink:href=\"#DejaVuSans-48\"/>\r\n       <use x=\"190.869141\" xlink:href=\"#DejaVuSans-48\"/>\r\n       <use x=\"254.492188\" xlink:href=\"#DejaVuSans-48\"/>\r\n      </g>\r\n     </g>\r\n    </g>\r\n    <g id=\"ytick_8\">\r\n     <g id=\"line2d_27\">\r\n      <path clip-path=\"url(#p5ae88d722a)\" d=\"M 46.0125 15.824097 \r\nL 380.8125 15.824097 \r\n\" style=\"fill:none;stroke:#b0b0b0;stroke-linecap:square;stroke-width:0.8;\"/>\r\n     </g>\r\n     <g id=\"line2d_28\">\r\n      <g>\r\n       <use style=\"stroke:#000000;stroke-width:0.8;\" x=\"46.0125\" xlink:href=\"#mbec9b9b278\" y=\"15.824097\"/>\r\n      </g>\r\n     </g>\r\n     <g id=\"text_14\">\r\n      <!-- 14000 -->\r\n      <g transform=\"translate(7.2 19.623316)scale(0.1 -0.1)\">\r\n       <use xlink:href=\"#DejaVuSans-49\"/>\r\n       <use x=\"63.623047\" xlink:href=\"#DejaVuSans-52\"/>\r\n       <use x=\"127.246094\" xlink:href=\"#DejaVuSans-48\"/>\r\n       <use x=\"190.869141\" xlink:href=\"#DejaVuSans-48\"/>\r\n       <use x=\"254.492188\" xlink:href=\"#DejaVuSans-48\"/>\r\n      </g>\r\n     </g>\r\n    </g>\r\n   </g>\r\n   <g id=\"patch_5\">\r\n    <path d=\"M 46.0125 224.64 \r\nL 46.0125 7.2 \r\n\" style=\"fill:none;stroke:#000000;stroke-linecap:square;stroke-linejoin:miter;stroke-width:0.8;\"/>\r\n   </g>\r\n   <g id=\"patch_6\">\r\n    <path d=\"M 380.8125 224.64 \r\nL 380.8125 7.2 \r\n\" style=\"fill:none;stroke:#000000;stroke-linecap:square;stroke-linejoin:miter;stroke-width:0.8;\"/>\r\n   </g>\r\n   <g id=\"patch_7\">\r\n    <path d=\"M 46.0125 224.64 \r\nL 380.8125 224.64 \r\n\" style=\"fill:none;stroke:#000000;stroke-linecap:square;stroke-linejoin:miter;stroke-width:0.8;\"/>\r\n   </g>\r\n   <g id=\"patch_8\">\r\n    <path d=\"M 46.0125 7.2 \r\nL 380.8125 7.2 \r\n\" style=\"fill:none;stroke:#000000;stroke-linecap:square;stroke-linejoin:miter;stroke-width:0.8;\"/>\r\n   </g>\r\n  </g>\r\n </g>\r\n <defs>\r\n  <clipPath id=\"p5ae88d722a\">\r\n   <rect height=\"217.44\" width=\"334.8\" x=\"46.0125\" y=\"7.2\"/>\r\n  </clipPath>\r\n </defs>\r\n</svg>\r\n",
      "image/png": "[encoded data removed]"
     },
     "metadata": {
      "needs_background": "light"
     }
    }
   ],
   "source": [
    "print(\"标签类别数 \", df_label_info['label'].unique())\n",
    "print(\"训练企业数量 \", len(df_label_info['id'].unique()))\n",
    "print(df_label_info['label'].value_counts())\n",
    "print(df_label_info['id'].value_counts())\n",
    "\n",
    "df_label_info['label'].hist(bins=2)"
   ]
  },
  {
   "source": [
    "### other_info.csv"
   ],
   "cell_type": "markdown",
   "metadata": {}
  },
  {
   "cell_type": "code",
   "execution_count": 6,
   "metadata": {},
   "outputs": [
    {
     "output_type": "stream",
     "name": "stdout",
     "text": [
      "1.0      282\n2.0      175\n3.0       93\n4.0       66\n5.0       55\n        ... \n37.0       1\n128.0      1\n76.0       1\n80.0       1\n90.0       1\nName: legal_judgment_num, Length: 93, dtype: int64\n1.0      311\n2.0      180\n3.0       85\n4.0       58\n5.0       36\n        ... \n38.0       1\n199.0      1\n200.0      1\n361.0      1\n421.0      1\nName: brand_num, Length: 82, dtype: int64\n2.0      40\n1.0      29\n3.0      23\n6.0      15\n4.0      14\n         ..\n200.0     1\n353.0     1\n153.0     1\n273.0     1\n52.0      1\nName: patent_num, Length: 114, dtype: int64\n(1890, 4)\n                                                 id  legal_judgment_num  \\\n0  f000950527a6feb6d340f91da09e61347d8200cd2f0d1602                 4.0   \n1  f000950527a6feb608dd9322b74a99f60851207f36a3c94c                 1.0   \n2  d8071a739aa75a3b9f23966f8dae78fd226c272515b9c255                 2.0   \n3  216bd2aaf4d079242209b1496f81a36c7abed9dd0bb65ed3                 NaN   \n4  e9f7b28ec10e0470de9631c789f49acdd4e7cf9ed6db094b                 NaN   \n\n   brand_num  patent_num  \n0        NaN         NaN  \n1        NaN         NaN  \n2        NaN         NaN  \n3        1.0         NaN  \n4        2.0         NaN  \n"
     ]
    }
   ],
   "source": [
    "# TODO: 特征空值过多 如何处理？ #\n",
    "df_other_info = pd.read_csv(t_other_info, header=0)\n",
    "print(df_other_info['legal_judgment_num'].value_counts()) # 裁判文书数量, 法律纠纷数量\n",
    "print(df_other_info['brand_num'].value_counts())          # 注册商标数量\n",
    "print(df_other_info['patent_num'].value_counts())         # 专利数量\n",
    "print(df_other_info.shape)                                \n",
    "print(df_other_info.head(5))                              \n"
   ]
  },
  {
   "cell_type": "code",
   "execution_count": 7,
   "metadata": {},
   "outputs": [
    {
     "output_type": "stream",
     "name": "stdout",
     "text": [
      "884 981 1494\n"
     ]
    }
   ],
   "source": [
    "# 统计空值的个数\n",
    "null_cnt_lj = df_other_info['legal_judgment_num'].isnull().sum(axis=0)\n",
    "null_cnt_br = df_other_info['brand_num'].isnull().sum(axis=0)\n",
    "null_cnt_pt = df_other_info['patent_num'].isnull().sum(axis=0)\n",
    "print(null_cnt_lj, null_cnt_br, null_cnt_pt)\n",
    "\n"
   ]
  },
  {
   "cell_type": "code",
   "execution_count": 8,
   "metadata": {},
   "outputs": [
    {
     "output_type": "stream",
     "name": "stdout",
     "text": [
      "14865\n(14865, 5)\n"
     ]
    }
   ],
   "source": [
    "training_set = pd.merge(df_label_info, df_other_info, how='left', on='id')\n",
    "# 释放内存\n",
    "# del df_label_info\n",
    "# del df_other_info\n",
    "# training_set[training_set['id'] == \"f000950527a6feb63702b1f6c1dabe5ea196d320bbbff425\"]\n",
    "print(len(training_set['id'].value_counts()))\n",
    "training_set = training_set.groupby(['id'], as_index=False).mean()\n",
    "print(training_set.shape)"
   ]
  },
  {
   "source": [
    "### news_info.csv"
   ],
   "cell_type": "markdown",
   "metadata": {}
  },
  {
   "cell_type": "code",
   "execution_count": 9,
   "metadata": {},
   "outputs": [
    {
     "output_type": "stream",
     "name": "stdout",
     "text": [
      "f000950527a6feb63702b1f6c1dabe5ea196d320bbbff425    1193\n",
      "f000950527a6feb6b1cedd99a67ea0c20a3ce2ca11761489     780\n",
      "d8071a739aa75a3b04c9a1789bd657ef83e10c02b1a9fef5     290\n",
      "f000950527a6feb6c296eca7091876ac6cba7097c9c7d2ee     272\n",
      "f000950527a6feb6194eb25023f715fa9ec0166d20cc8aed     215\n",
      "                                                    ... \n",
      "f000950527a6feb693802ae97616054c3e5b5755fc8e47b7       1\n",
      "f000950527a6feb66105bfbb5f80ae92bc45322a9f94a130       1\n",
      "f000950527a6feb6a805d13d51322b8bffa525cfab59b75e       1\n",
      "f000950527a6feb6bc68e84ab24d8af646bcb30f2e97e1c8       1\n",
      "f000950527a6feb6901a756b3bb5977229b185ad31710215       1\n",
      "Name: id, Length: 927, dtype: int64\n",
      "(10518, 3)\n",
      "927\n",
      "(10518, 3)\n",
      "                                                 id  positive_negtive  \\\n",
      "0  f000950527a6feb62669d6a175fe6fdccd1eb4f7ca8e5016               1.0   \n",
      "1  f000950527a6feb6e8bd9919e2ca363359bcfa997a0f9de7               0.1   \n",
      "2  f000950527a6feb6e8bd9919e2ca363359bcfa997a0f9de7              -1.0   \n",
      "3  d8071a739aa75a3bcf6fb0041ee883243251d30025ab9d45               0.1   \n",
      "4  f000950527a6feb6d71de3382afa0bc5ff87bb65477f698a               1.0   \n",
      "\n",
      "   public_date  \n",
      "0         1379  \n",
      "1         1157  \n",
      "2         1684  \n",
      "3          854  \n",
      "4         1929  \n",
      "6621\n",
      "                                                 id  news_factor\n",
      "0  09912c34159b1720558a419983a989f1dd2e0ed69a044ca3     0.473569\n",
      "1  175ebe5f059ec050afbd65251ecdd3b512bfbe5e62d041b0     3.922580\n",
      "2  216bd2aaf4d079240c3ac0b76f0ef4aa355d443880ba78db     2.079671\n",
      "3  216bd2aaf4d079240f5823e63d24b44dd2c58e3281b822f6     0.195031\n",
      "4  216bd2aaf4d0792410725ba5e7ca1dc32ce55767372f2030    -0.649902\n",
      "(927, 2)\n",
      " 0.097750    5\n",
      " 0.098037    4\n",
      " 0.072346    4\n",
      " 0.934149    4\n",
      " 0.097961    4\n",
      "            ..\n",
      " 0.081861    1\n",
      " 1.871470    1\n",
      "-0.784187    1\n",
      "-2.691436    1\n",
      " 0.000000    1\n",
      "Name: news_factor, Length: 862, dtype: int64\n",
      "613.9988521371387\n"
     ]
    }
   ],
   "source": [
    "#  TODO: 随着时间变化，news的态度不同 但是标签只能是一个#\n",
    "df_news_info = pd.read_csv(t_news_info, header=0)\n",
    "print(df_news_info['id'].value_counts())\n",
    "print(df_news_info.shape)\n",
    "print(len(df_news_info['id'].unique()))\n",
    "\n",
    "dict_atitude = {\"积极\": 1, \"中立\": 0.1, \"消极\": -1}\n",
    "df_news_info['positive_negtive'] = df_news_info['positive_negtive'].map(lambda x : dict_atitude[x])\n",
    "# public date 转变成迄今为止发生时间\n",
    "cmp_date = \"2020-10-09\"\n",
    "from util import *\n",
    "\n",
    "# df_news_info['public_date'] = df_news_info['public_date'].map(lambda x: check_date(x))\n",
    "# df_news_info['public_date'].value_counts()\n",
    "# 处理\"xx小时前\" 数据统一为昨天更新 \n",
    "def handle_public_date(str):\n",
    "    if(check_date(str) == False):\n",
    "        return 1\n",
    "    else:\n",
    "        return days(cmp_date, str)\n",
    "df_news_info['public_date'] = df_news_info['public_date'].map(lambda x: handle_public_date(x))\n",
    "\n",
    "print(df_news_info.shape)\n",
    "\n",
    "# 新闻发布时间，越久远 因子越小\n",
    "print(df_news_info.head())\n",
    "print(df_news_info['public_date'].max())\n",
    "df_news_info['news_factor'] = 1 - (df_news_info['public_date'] / df_news_info['public_date'].max())\n",
    "df_news_info['news_factor'] = df_news_info[['news_factor', 'positive_negtive']].apply(lambda x: x['news_factor'] * x['positive_negtive'], axis=1)\n",
    "\n",
    "del df_news_info['positive_negtive']\n",
    "del df_news_info['public_date']\n",
    "df_news_info = df_news_info.groupby(['id'], as_index=False).sum()\n",
    "\n",
    "print(df_news_info.head())\n",
    "print(df_news_info.shape)\n",
    "print(df_news_info['news_factor'].value_counts())\n",
    "print(df_news_info['news_factor'].max())\n",
    "\n"
   ]
  },
  {
   "cell_type": "code",
   "execution_count": 10,
   "metadata": {},
   "outputs": [
    {
     "output_type": "stream",
     "name": "stdout",
     "text": [
      "(14865, 6)\n                                                     id  label  \\\n14855  f1c1045b13d18329feb49317c30665c7de5a66d4024c205f      0   \n14856  f1c1045b13d18329ff12a0666b8a400b902fda7815ed4d05      0   \n14857  f1c1045b13d18329ff3fc0c5b0bb11919c9e966a0b0c0781      0   \n14858  f1c1045b13d18329ff62260c744223b68f1c22d9687d4569      0   \n14859  f1c1045b13d18329ff712679aeb2de2622ebd54670ae90d3      0   \n14860  f6eb47aa168d4141ebdc3e35a7b37a3cb15baa8608f730a0      0   \n14861  ff2c78b9022767a53da2e5a811e4aa9583e32efc9899f9f3      0   \n14862  ff2c78b9022767a56f3cbb4688ebd94b062278c25f8ae074      0   \n14863  ff2c78b9022767a5eaca0af7685725abefc80e4f9106c285      0   \n14864  ff2c78b9022767a5ebe009942841f102147e68e19c705f89      0   \n\n       legal_judgment_num  brand_num  patent_num  news_factor  \n14855                 NaN        NaN         NaN          NaN  \n14856                 NaN        NaN         NaN          NaN  \n14857                 NaN        NaN         NaN          NaN  \n14858                 NaN        NaN         NaN          NaN  \n14859                 NaN        NaN         NaN          NaN  \n14860                 NaN        NaN         NaN          NaN  \n14861                 NaN        NaN         7.0          NaN  \n14862                 NaN        NaN         NaN          NaN  \n14863                 NaN        NaN         NaN          NaN  \n14864                 NaN        NaN         NaN          NaN  \n"
     ]
    }
   ],
   "source": [
    "training_set = pd.merge(training_set, df_news_info, how='left', on='id')\n",
    "# print(training_set.head())\n",
    "# print(training_set['positive_negtive'].value_counts())\n",
    "print(training_set.shape)\n",
    "print(training_set.tail(10))\n",
    "# print(training_set['positive_negtive'].value_counts())\n"
   ]
  },
  {
   "cell_type": "code",
   "execution_count": 11,
   "metadata": {},
   "outputs": [
    {
     "output_type": "stream",
     "name": "stdout",
     "text": [
      "                                                     id  label  \\\n11989  f000950527a6feb63702b1f6c1dabe5ea196d320bbbff425      0   \n\n       legal_judgment_num  brand_num  patent_num  news_factor  \n11989                27.0       69.0        77.0   613.998852  \n<class 'pandas.core.frame.DataFrame'>\nInt64Index: 14865 entries, 0 to 14864\nData columns (total 6 columns):\n #   Column              Non-Null Count  Dtype  \n---  ------              --------------  -----  \n 0   id                  14865 non-null  object \n 1   label               14865 non-null  int64  \n 2   legal_judgment_num  313 non-null    float64\n 3   brand_num           485 non-null    float64\n 4   patent_num          182 non-null    float64\n 5   news_factor         388 non-null    float64\ndtypes: float64(4), int64(1), object(1)\nmemory usage: 812.9+ KB\nNone\n613.9988521371387\n 0.916931    2\n 0.097689    2\n 0.091270    2\n 0.096390    2\n 0.096254    2\n            ..\n-0.486633    1\n 0.097508    1\n 0.056200    1\n 2.923456    1\n 0.000000    1\nName: news_factor, Length: 374, dtype: int64\n"
     ]
    }
   ],
   "source": [
    "# 一个id对应不同时间的不同新闻评价\n",
    "tmp = training_set[training_set['id'] == \"f000950527a6feb63702b1f6c1dabe5ea196d320bbbff425\"]\n",
    "print(tmp.head(100))\n",
    "print(training_set.info())\n",
    "print(training_set['news_factor'].max())\n",
    "print(training_set['news_factor'].value_counts())"
   ]
  },
  {
   "source": [
    "### change_info.csv"
   ],
   "cell_type": "markdown",
   "metadata": {}
  },
  {
   "cell_type": "code",
   "execution_count": 12,
   "metadata": {},
   "outputs": [
    {
     "output_type": "stream",
     "name": "stdout",
     "text": [
      "(45940, 5)\n",
      "                                                 id  bgcnt\n",
      "0  09912c34159b1720558a419983a989f1dd2e0ed69a044ca3      9\n",
      "1  0ba26b418aa50d3c35e3d01d414b2c9f07efa6997fbf4394      5\n",
      "2  175ebe5f059ec05007223e9af0a48b885f4cbfa833d93eed     11\n",
      "3  175ebe5f059ec05036d901021be6da41057ae3ee1fe6b8bb     15\n",
      "4  175ebe5f059ec0503eb86987a7b6da7c40c6e69d5b54736f      2\n",
      "(8726, 2)\n"
     ]
    }
   ],
   "source": [
    "# TODO: 变更信息如何处理  这里直接删除 只保留变更时间 #\n",
    "df_change_info = pd.read_csv(t_change_info, header=0)\n",
    "print(df_change_info.shape)\n",
    "\n",
    "# df_change_info['bqyf'] = df_change_info[['bgq', 'bgh']].apply(lambda x: x['bgq'] == x['bgh'], axis=1)\n",
    "# del df_change_info[]\n",
    "# df_change_info.shape\n",
    "del df_change_info['bgxmdm']\n",
    "del df_change_info['bgq']\n",
    "del df_change_info['bgh']\n",
    "# df_change_info['bgrq'] = df_change_info['bgrq'].apply(np.log)\n",
    "del df_change_info['bgrq']\n",
    "\n",
    "df_change_info['bgcnt'] = 1\n",
    "df_change_info = df_change_info.groupby(['id'], as_index=False).sum()\n",
    "# 平滑 bgrq:变更日期\n",
    "print(df_change_info.head())\n",
    "print(df_change_info.shape)"
   ]
  },
  {
   "cell_type": "code",
   "execution_count": 13,
   "metadata": {},
   "outputs": [
    {
     "output_type": "stream",
     "name": "stdout",
     "text": [
      "                                                 id  label  \\\n0  09912c34159b1720558a419983a989f1dd2e0ed69a044ca3      0   \n1  0ba26b418aa50d3c35e3d01d414b2c9f07efa6997fbf4394      0   \n2  0ba26b418aa50d3ca37396f2819750892b17f0dce3d7493c      0   \n3  175ebe5f059ec05007223e9af0a48b885f4cbfa833d93eed      0   \n4  175ebe5f059ec05036d901021be6da41057ae3ee1fe6b8bb      0   \n\n   legal_judgment_num  brand_num  patent_num  news_factor  bgcnt  \n0                10.0       34.0         4.0     0.473569    9.0  \n1                 NaN        NaN         NaN          NaN    5.0  \n2                 NaN        6.0         NaN          NaN    NaN  \n3                 NaN        NaN         NaN          NaN   11.0  \n4                 NaN        NaN         NaN          NaN   15.0  \n(14865, 7)\n"
     ]
    }
   ],
   "source": [
    "training_set = pd.merge(training_set, df_change_info, how='left', on='id')\n",
    "print(training_set.head())\n",
    "print(training_set.shape)\n",
    "\n",
    "## todo: 统计change次数 平均change时间"
   ]
  },
  {
   "source": [
    "### tax_info.csv\n"
   ],
   "cell_type": "markdown",
   "metadata": {}
  },
  {
   "cell_type": "code",
   "execution_count": 14,
   "metadata": {
    "tags": []
   },
   "outputs": [
    {
     "output_type": "stream",
     "name": "stdout",
     "text": [
      "(29195, 9)\n",
      "                                                 id  START_DATE    END_DATE  \\\n",
      "0  f000950527a6feb6c2f40c9d8477e73a439dfa0897830397  2015/09/01  2015/09/30   \n",
      "1  f000950527a6feb6c2f40c9d8477e73a439dfa0897830397  2015/09/01  2015/09/30   \n",
      "2  f000950527a6feb6c2f40c9d8477e73a439dfa0897830397  2015/09/01  2015/09/30   \n",
      "3  f000950527a6feb6c2f40c9d8477e73a439dfa0897830397  2015/09/01  2015/09/30   \n",
      "4  f000950527a6feb6c2f40c9d8477e73a439dfa0897830397  2015/09/01  2015/09/30   \n",
      "\n",
      "  TAX_CATEGORIES     TAX_ITEMS  TAXATION_BASIS  TAX_RATE  DEDUCTION  \\\n",
      "0            印花税      工伤保险（单位）        72530.75    0.0003      -0.04   \n",
      "1            印花税      失业保险（单位）        72530.75    0.0003      -0.04   \n",
      "2            印花税      医疗保险（单位）        72530.75    0.0003      -0.04   \n",
      "3            印花税  企业养老保险基金（单位）        72530.75    0.0003      -0.04   \n",
      "4            印花税          烟叶收购        72530.75    0.0003      -0.04   \n",
      "\n",
      "   TAX_AMOUNT  \n",
      "0        21.8  \n",
      "1        21.8  \n",
      "2        21.8  \n",
      "3        21.8  \n",
      "4        21.8  \n",
      "1.405192e+08    160\n",
      "4.462127e+08    160\n",
      "4.507304e+08    160\n",
      "3.881495e+08    160\n",
      "3.000000e+03     92\n",
      "               ... \n",
      "2.892923e+05      1\n",
      "1.112000e+05      1\n",
      "3.645000e+03      1\n",
      "2.895983e+04      1\n",
      "1.001600e+05      1\n",
      "Name: TAXATION_BASIS, Length: 1665, dtype: int64\n",
      "(29195, 7)\n",
      "                                                     id  TAX_CATEGORIES  \\\n",
      "29190  f000950527a6feb6cb8976eb56233ede461cb23103f85f32               0   \n",
      "29191  f000950527a6feb6cb8976eb56233ede461cb23103f85f32               0   \n",
      "29192  d8071a739aa75a3bbb9e08ebd134ae1289f194b70cac0e95               8   \n",
      "29193  d8071a739aa75a3bbb9e08ebd134ae1289f194b70cac0e95               5   \n",
      "29194  d8071a739aa75a3bbb9e08ebd134ae1289f194b70cac0e95               5   \n",
      "\n",
      "       TAX_ITEMS  TAX_RATE  DEDUCTION  TAX_AMOUNT  TAX_DAYS  \n",
      "29190        248       0.2        NaN       60.00         0  \n",
      "29191        247       0.2        NaN       60.00         0  \n",
      "29192         81       NaN        NaN       94.96        30  \n",
      "29193         29       NaN        NaN      837.48        30  \n",
      "29194         29       NaN        NaN      114.01        30  \n"
     ]
    }
   ],
   "source": [
    "# TODO: 很多统计信息， 需要去提取特征 #\n",
    "df_tax_info = pd.read_csv(t_tax_info, header=0)\n",
    "print(df_tax_info.shape)\n",
    "print(df_tax_info.head())\n",
    "df_tax_info['TAX_CATEGORIES'].value_counts()\n",
    "df_tax_info['TAX_ITEMS'].value_counts()\n",
    "df_tax_info['TAX_AMOUNT'].value_counts()\n",
    "print(df_tax_info['TAXATION_BASIS'].value_counts())\n",
    "\n",
    "df_tax_info['TAX_DAYS'] = df_tax_info[['START_DATE', 'END_DATE']].apply(lambda x : days_v1(x['END_DATE'], x['START_DATE']), axis=1)\n",
    "\n",
    "del df_tax_info['START_DATE']\n",
    "del df_tax_info['END_DATE']\n",
    "\n",
    "tax_cg_dict = {}\n",
    "cnt = 0\n",
    "for e in df_tax_info['TAX_CATEGORIES'].unique():\n",
    "    if e in tax_cg_dict: continue\n",
    "    else:\n",
    "        tax_cg_dict[e] = cnt \n",
    "        cnt += 1\n",
    "\n",
    "df_tax_info['TAX_CATEGORIES'] = df_tax_info['TAX_CATEGORIES'].map(tax_cg_dict)\n",
    "\n",
    "tax_it_dict = {}\n",
    "cnt = 0\n",
    "for e in df_tax_info['TAX_ITEMS'].unique():\n",
    "    if e in tax_it_dict: continue\n",
    "    else:\n",
    "        tax_it_dict[e] = cnt \n",
    "        cnt += 1\n",
    "df_tax_info['TAX_ITEMS'] = df_tax_info['TAX_ITEMS'].map(tax_it_dict)\n",
    "df_tax_info['TAXATION_BASIS'] = df_tax_info['TAXATION_BASIS'].apply(np.log)\n",
    "\n",
    "del df_tax_info['TAXATION_BASIS']\n",
    "print(df_tax_info.shape)\n",
    "print(df_tax_info.tail())\n"
   ]
  },
  {
   "cell_type": "code",
   "execution_count": 15,
   "metadata": {},
   "outputs": [
    {
     "output_type": "stream",
     "name": "stdout",
     "text": [
      "0        09912c34159b1720558a419983a989f1dd2e0ed69a044ca3\n1        0ba26b418aa50d3c35e3d01d414b2c9f07efa6997fbf4394\n2        0ba26b418aa50d3ca37396f2819750892b17f0dce3d7493c\n3        175ebe5f059ec05007223e9af0a48b885f4cbfa833d93eed\n4        175ebe5f059ec05036d901021be6da41057ae3ee1fe6b8bb\n                               ...                       \n14860    f6eb47aa168d4141ebdc3e35a7b37a3cb15baa8608f730a0\n14861    ff2c78b9022767a53da2e5a811e4aa9583e32efc9899f9f3\n14862    ff2c78b9022767a56f3cbb4688ebd94b062278c25f8ae074\n14863    ff2c78b9022767a5eaca0af7685725abefc80e4f9106c285\n14864    ff2c78b9022767a5ebe009942841f102147e68e19c705f89\nName: id, Length: 14865, dtype: object\n['09912c34159b1720558a419983a989f1dd2e0ed69a044ca3'\n '0ba26b418aa50d3c35e3d01d414b2c9f07efa6997fbf4394'\n '0ba26b418aa50d3ca37396f2819750892b17f0dce3d7493c' ...\n 'ff2c78b9022767a56f3cbb4688ebd94b062278c25f8ae074'\n 'ff2c78b9022767a5eaca0af7685725abefc80e4f9106c285'\n 'ff2c78b9022767a5ebe009942841f102147e68e19c705f89']\n"
     ]
    }
   ],
   "source": [
    "print(training_set['id'])\n",
    "print(training_set['id'].unique())"
   ]
  },
  {
   "cell_type": "code",
   "execution_count": 43,
   "metadata": {},
   "outputs": [
    {
     "output_type": "stream",
     "name": "stdout",
     "text": [
      "Index([0, 1, 2, 3, 4, 5, 6, 7, 8, 9, 10, 11, 12, 13, 14, 15, 16], dtype='object', name='TAX_CATEGORIES')\n",
      "Index([0, 1, 2, 3, 4, 5, 6, 7, 8, 9, 10, 11, 12, 13, 14, 15, 16], dtype='object', name='TAX_CATEGORIES')\n",
      "275 275\n",
      "(808, 2204)\n",
      "(808, 587)\n",
      "                                                 id  DEDUCTION  TAX_AMOUNT  \\\n",
      "0  216bd2aaf4d079243f3c0bd3d6d28333c790bd3aee0ddad8        0.6     1727.89   \n",
      "1  216bd2aaf4d079248a1cb9c41425810a25d29c1fc1d1c15a        0.0    25038.50   \n",
      "2  216bd2aaf4d07924caa4f30fb76969cba69358e90e310f5e        0.0     2400.00   \n",
      "3  216bd2aaf4d07924d90a8951ef6a87c01e2f2ec78aa14698        0.0      204.60   \n",
      "4  47645761dc56bb8c0ee994e2cf201d523319b7160f6722f8        0.0       73.94   \n",
      "\n",
      "   cg_deduction0  cg_deduction1  cg_deduction2  cg_deduction3  cg_deduction4  \\\n",
      "0            0.6            0.0            NaN            NaN            NaN   \n",
      "1            NaN            NaN            NaN            NaN            NaN   \n",
      "2            NaN            NaN            NaN            NaN            NaN   \n",
      "3            0.0            NaN            NaN            NaN            NaN   \n",
      "4            0.0            0.0            0.0            0.0            NaN   \n",
      "\n",
      "   cg_deduction5  cg_deduction6  ...  it_tax_amount265  it_tax_amount266  \\\n",
      "0            0.0            NaN  ...               NaN               NaN   \n",
      "1            0.0            NaN  ...               NaN               NaN   \n",
      "2            0.0            NaN  ...               NaN               NaN   \n",
      "3            NaN            NaN  ...               NaN               NaN   \n",
      "4            NaN            NaN  ...               NaN               NaN   \n",
      "\n",
      "   it_tax_amount267  it_tax_amount268  it_tax_amount269  it_tax_amount270  \\\n",
      "0               NaN               NaN               NaN               NaN   \n",
      "1               NaN               NaN               NaN               NaN   \n",
      "2               NaN               NaN               NaN               NaN   \n",
      "3               NaN               NaN               NaN               NaN   \n",
      "4               NaN               NaN               NaN               NaN   \n",
      "\n",
      "   it_tax_amount271  it_tax_amount272  it_tax_amount273  it_tax_amount274  \n",
      "0               NaN               NaN               NaN               NaN  \n",
      "1               NaN               NaN               NaN               NaN  \n",
      "2               NaN               NaN               NaN               NaN  \n",
      "3               NaN               NaN               NaN               NaN  \n",
      "4               NaN               NaN               NaN               NaN  \n",
      "\n",
      "[5 rows x 587 columns]\n"
     ]
    }
   ],
   "source": [
    "df_tax_info_cp = df_tax_info.copy()\n",
    "# print(df_tax_info_cp.shape)\n",
    "df_tax_amount_cp = df_tax_info_cp[['id', 'DEDUCTION', 'TAX_AMOUNT']].groupby(['id'], as_index=False).sum()\n",
    "# print(df_tax_amount_cp.head(50))\n",
    "# print(df_tax_amount_cp['DEDUCTION'].value_counts())\n",
    "\n",
    "df_tax_cg_info_cp = df_tax_info.copy()\n",
    "df_tax_cg_amount_cp = df_tax_cg_info_cp[['id','TAX_CATEGORIES', 'DEDUCTION', 'TAX_AMOUNT']].groupby(['id','TAX_CATEGORIES'], as_index=False).sum()\n",
    "# print(df_tax_cg_amount_cp.head())\n",
    "# print(len(df_tax_cg_amount_cp['id'].value_counts()))\n",
    "\n",
    "df_tax_cg_amount_cp = df_tax_cg_amount_cp.pivot(index='id', columns='TAX_CATEGORIES', values=['DEDUCTION', 'TAX_AMOUNT']).reset_index()\n",
    "# print(df_tax_cg_amount_cp.iloc[0:5, 0:2])\n",
    "# print(df_tax_cg_amount_cp[['id', 'DEDUCTION']])\n",
    "# df_tax_mg = pd.concat([df_tax_amount_cp, df_tax_cg_amount_cp[['DEDUCTION', 'TAX_AMOUNT']]], axis=1)\n",
    "# print(df_tax_cg_amount_cp['DEDUCTION', 1])\n",
    "len_deduction = len(df_tax_cg_amount_cp['DEDUCTION'].columns)\n",
    "len_tax_amount = len(df_tax_cg_amount_cp['TAX_AMOUNT'].columns)\n",
    "print(df_tax_cg_amount_cp['DEDUCTION'].columns)\n",
    "print(df_tax_cg_amount_cp['TAX_AMOUNT'].columns)\n",
    "for i in range(len_deduction):\n",
    "    df_tmp = pd.DataFrame()\n",
    "    df_tmp.loc[:,'cg_deduction'+str(i)] = df_tax_cg_amount_cp['DEDUCTION', i]\n",
    "    # print(df_tmp)\n",
    "    df_tax_amount_cp = pd.concat([df_tax_amount_cp, df_tmp], axis=1)\n",
    "# print(df_tax_amount_cp.head())\n",
    "# print(df_tax_mg.shape)\n",
    "\n",
    "for i in range(len_tax_amount):\n",
    "    df_tmp = pd.DataFrame()\n",
    "    df_tmp.loc[:,'cg_tax_amount'+str(i)] = df_tax_cg_amount_cp['TAX_AMOUNT', i]\n",
    "    df_tax_amount_cp = pd.concat([df_tax_amount_cp, df_tmp], axis=1)\n",
    "# print(df_tax_amount_cp.head())\n",
    "\n",
    "\n",
    "df_tax_it_info_cp = df_tax_info.copy()\n",
    "df_tax_it_amount_cp = df_tax_cg_info_cp[['id','TAX_ITEMS', 'DEDUCTION', 'TAX_AMOUNT']].groupby(['id','TAX_ITEMS'], as_index=False).sum()\n",
    "\n",
    "df_tax_it_amount_cp = df_tax_it_amount_cp.pivot(index='id', columns='TAX_ITEMS', values=['DEDUCTION', 'TAX_AMOUNT']).reset_index()\n",
    "len_deduction = len(df_tax_it_amount_cp['DEDUCTION'].columns)\n",
    "len_tax_amount = len(df_tax_it_amount_cp['TAX_AMOUNT'].columns)\n",
    "# print(df_tax_it_amount_cp['DEDUCTION'].columns)\n",
    "# print(df_tax_it_amount_cp['TAX_AMOUNT'].columns)\n",
    "print(len_deduction, len_tax_amount)\n",
    "\n",
    "for i in range(len_deduction):\n",
    "    df_tmp = pd.DataFrame()\n",
    "    df_tmp.loc[:,'it_deduction'+str(i)] = df_tax_it_amount_cp['DEDUCTION', i]\n",
    "    df_tax_amount_cp = pd.concat([df_tax_amount_cp, df_tmp], axis=1)\n",
    "# print(df_tax_amount_cp.head())\n",
    "print(df_tax_mg.shape)\n",
    "\n",
    "for i in range(len_tax_amount):\n",
    "    df_tmp = pd.DataFrame()\n",
    "    df_tmp.loc[:,'it_tax_amount'+str(i)] = df_tax_it_amount_cp['TAX_AMOUNT', i]\n",
    "    df_tax_amount_cp = pd.concat([df_tax_amount_cp, df_tmp], axis=1)\n",
    "print(df_tax_amount_cp.shape)\n",
    "print(df_tax_amount_cp.head())\n",
    "\n",
    "# df_tax_mg = pd.concat([df_tax_mg, df_tax_it_amount_cp[['DEDUCTION', 'TAX_AMOUNT']]], axis=1)\n",
    "# print(df_tax_mg.head())\n",
    "# print(df_tax_mg.shape)\n",
    "# print(df_tax_it_amount_cp.head())\n",
    "# print(df_tax_it_amount_cp.shape)"
   ]
  },
  {
   "cell_type": "code",
   "execution_count": 17,
   "metadata": {},
   "outputs": [
    {
     "output_type": "stream",
     "name": "stdout",
     "text": [
      "                                                 id  label  \\\n0  09912c34159b1720558a419983a989f1dd2e0ed69a044ca3      0   \n1  0ba26b418aa50d3c35e3d01d414b2c9f07efa6997fbf4394      0   \n2  0ba26b418aa50d3ca37396f2819750892b17f0dce3d7493c      0   \n3  175ebe5f059ec05007223e9af0a48b885f4cbfa833d93eed      0   \n4  175ebe5f059ec05036d901021be6da41057ae3ee1fe6b8bb      0   \n\n   legal_judgment_num  brand_num  patent_num  news_factor  bgcnt  DEDUCTION  \\\n0                10.0       34.0         4.0     0.473569    9.0        NaN   \n1                 NaN        NaN         NaN          NaN    5.0        NaN   \n2                 NaN        6.0         NaN          NaN    NaN        NaN   \n3                 NaN        NaN         NaN          NaN   11.0        NaN   \n4                 NaN        NaN         NaN          NaN   15.0        NaN   \n\n   TAX_AMOUNT  (DEDUCTION, 0)  ...  (TAX_AMOUNT, 265)  (TAX_AMOUNT, 266)  \\\n0         NaN             NaN  ...                NaN                NaN   \n1         NaN             NaN  ...                NaN                NaN   \n2         NaN             NaN  ...                NaN                NaN   \n3         NaN             NaN  ...                NaN                NaN   \n4         NaN             NaN  ...                NaN                NaN   \n\n   (TAX_AMOUNT, 267)  (TAX_AMOUNT, 268)  (TAX_AMOUNT, 269)  (TAX_AMOUNT, 270)  \\\n0                NaN                NaN                NaN                NaN   \n1                NaN                NaN                NaN                NaN   \n2                NaN                NaN                NaN                NaN   \n3                NaN                NaN                NaN                NaN   \n4                NaN                NaN                NaN                NaN   \n\n   (TAX_AMOUNT, 271)  (TAX_AMOUNT, 272)  (TAX_AMOUNT, 273)  (TAX_AMOUNT, 274)  \n0                NaN                NaN                NaN                NaN  \n1                NaN                NaN                NaN                NaN  \n2                NaN                NaN                NaN                NaN  \n3                NaN                NaN                NaN                NaN  \n4                NaN                NaN                NaN                NaN  \n\n[5 rows x 593 columns]\n(14865, 593)\n"
     ]
    }
   ],
   "source": [
    "training_set = pd.merge(training_set, df_tax_amount_cp, how='left', on='id')\n",
    "print(training_set.head())\n",
    "print(training_set.shape)"
   ]
  },
  {
   "cell_type": "code",
   "execution_count": 18,
   "metadata": {
    "tags": []
   },
   "outputs": [],
   "source": [
    "# ## 统计每家企业 税款总额和扣款总额\n",
    "# df_tax_info_cp = df_tax_info.copy()\n",
    "# df_tax_amount_cp = df_tax_info_cp[['id', 'DEDUCTION', 'TAX_AMOUNT']].groupby(['id'], as_index=False).sum()\n",
    "# # print(df_tax_amount_cp.head())\n",
    "# # uid_list = training_set['id'].unique()\n",
    "# # print(len(uid_list))\n",
    "# # print(training_set.shape)\n",
    "\n",
    "# training_set[\"total_detuction\"] = None\n",
    "# training_set[\"total_tax\"] = None\n",
    "# for row in df_tax_amount_cp.itertuples():\n",
    "#     uid = getattr(row, 'id')\n",
    "#     if uid in training_set['id'].unique():\n",
    "#         training_set.loc[uid, \"total_detuction\"] = getattr(row, 'DEDUCTION')\n",
    "#         training_set.loc[uid, \"total_tax\"] = getattr(row, 'TAX_AMOUNT')\n",
    "\n",
    "# # print(training_set.shape)\n",
    "\n",
    "# df_tax_cg_info_cp = df_tax_info.copy()\n",
    "# df_tax_cg_amount_cp = df_tax_cg_info_cp[['id','TAX_CATEGORIES', 'DEDUCTION', 'TAX_AMOUNT']].groupby(['id','TAX_CATEGORIES'], as_index=False).sum()\n",
    "# # print(df_tax_cg_amount_cp.head())\n",
    "# # print(df_tax_cg_amount_cp.shape)\n",
    "\n",
    "# df_tax_it_info_cp = df_tax_info.copy()\n",
    "# df_tax_it_amount_cp = df_tax_cg_info_cp[['id','TAX_ITEMS', 'DEDUCTION', 'TAX_AMOUNT']].groupby(['id','TAX_ITEMS'], as_index=False).sum()\n",
    "# # print(df_tax_it_amount_cp.head())\n",
    "# # print(df_tax_it_amount_cp.shape)\n",
    "\n",
    "# # 提取: 1. 扣税和税额总额度  2. 不同税别占比  3. 不同税种占比\n",
    "# df_merge_cg = pd.merge(df_tax_cg_amount_cp, df_tax_amount_cp, how=\"left\", on=\"id\")\n",
    "# # print(df_merge_cg.head())\n",
    "# # print(df_merge_cg.shape)\n",
    "\n",
    "# df_merge_cg['cg_deduction'] = df_merge_cg['DEDUCTION_x'] / df_merge_cg['DEDUCTION_y']\n",
    "# df_merge_cg['cg_amount'] = df_merge_cg['TAX_AMOUNT_x'] / df_merge_cg['TAX_AMOUNT_y']\n",
    "# # print(df_merge_cg.head())\n",
    "\n",
    "# for row in df_merge_cg.itertuples():\n",
    "#     # print(getattr(row, 'id'), getattr(row, 'TAX_CATEGORIES')) # 输出每一行\n",
    "#     uid = getattr(row, 'id')\n",
    "#     cg = getattr(row, 'TAX_CATEGORIES')\n",
    "#     if uid in training_set['id'].unique():\n",
    "#         training_set.loc[uid, 'tax_ct_deduction'+ str(cg)] = getattr(row, 'cg_deduction')\n",
    "#         training_set.loc[uid, 'tax_ct_amount'+ str(cg)] = getattr(row, 'cg_amount')\n",
    "\n",
    "# print(training_set.shape)\n",
    "# df_merge_it = pd.merge(df_tax_it_amount_cp, df_tax_amount_cp, how=\"left\", on=\"id\")\n",
    "# df_merge_it['it_deduction'] = df_merge_it['DEDUCTION_x'] / df_merge_it['DEDUCTION_y']\n",
    "# df_merge_it['it_amount'] = df_merge_it['TAX_AMOUNT_x'] / df_merge_it['TAX_AMOUNT_y']\n",
    "# # print(df_merge_it.head())\n",
    "# for row in df_merge_it.itertuples():\n",
    "#     # print(getattr(row, 'id'), getattr(row, 'TAX_CATEGORIES')) # 输出每一行\n",
    "#     uid = getattr(row, 'id')\n",
    "#     it = getattr(row, 'TAX_ITEMS')\n",
    "#     if uid in training_set['id'].unique():\n",
    "#         training_set.loc[uid, 'tax_it_deduction'+ str(it)] = getattr(row, 'it_deduction')\n",
    "#         training_set.loc[uid, 'tax_it_amount'+ str(it)] = getattr(row, 'it_amount')\n",
    "\n",
    "# # print(training_set.head())\n",
    "# training_set = training_set.groupby(['id'], as_index=False).sum()\n",
    "# print(training_set.shape)\n",
    "# # print(training_set['id'].value_counts())"
   ]
  },
  {
   "cell_type": "code",
   "execution_count": 19,
   "metadata": {},
   "outputs": [
    {
     "output_type": "stream",
     "name": "stdout",
     "text": [
      "(29195, 7)\n"
     ]
    }
   ],
   "source": [
    "print(df_tax_info.shape)"
   ]
  },
  {
   "cell_type": "code",
   "execution_count": 20,
   "metadata": {},
   "outputs": [],
   "source": [
    "# training_set = pd.merge(training_set, df_tax_info, how='left', on='id')\n",
    "# # training_set['id'].value_counts()\n",
    "# # training_set.info()\n",
    "# print(training_set.shape)\n",
    "\n",
    "## 对税相关的进行 特征提取"
   ]
  },
  {
   "source": [
    "### annual_report_info.csv"
   ],
   "cell_type": "markdown",
   "metadata": {}
  },
  {
   "cell_type": "code",
   "execution_count": 21,
   "metadata": {
    "tags": []
   },
   "outputs": [
    {
     "output_type": "stream",
     "name": "stdout",
     "text": [
      "(22550, 23)\n",
      "                                                 id  ANCHEYEAR  STATE  FUNDAM  \\\n",
      "0  9c7fa510616a683058ce97d0bc768a621cd85ab1e87da2a3          2    2.0     5.0   \n",
      "1  9c7fa510616a683058ce97d0bc768a621cd85ab1e87da2a3          3    2.0     2.0   \n",
      "2  f000950527a6feb63ee1ce82bb22ddd1ab8b8fdffa3b91fb          2    2.0     NaN   \n",
      "3  f000950527a6feb63ee1ce82bb22ddd1ab8b8fdffa3b91fb          3    2.0     NaN   \n",
      "4  9c7fa510616a68309e4badf2a7a3123c0462fb85bf28ef17          2    2.0     5.0   \n",
      "\n",
      "   EMPNUM  EMPNUMSIGN  BUSSTNAME  COLGRANUM  RETSOLNUM  DISPERNUM  UNENUM  \\\n",
      "0    10.0         NaN        0.0        0.0        0.0        0.0     0.0   \n",
      "1     2.0         NaN        0.0        0.0        0.0        0.0     0.0   \n",
      "2     4.0         2.0        1.0        3.0        0.0        0.0     0.0   \n",
      "3     3.0         2.0        1.0        1.0        0.0        0.0     0.0   \n",
      "4    10.0         NaN        0.0        0.0        0.0        0.0     0.0   \n",
      "\n",
      "   COLEMPLNUM  RETEMPLNUM  DISEMPLNUM  UNEEMPLNUM  WEBSITSIGN  FORINVESTSIGN  \\\n",
      "0         0.0         0.0         0.0         0.0         2.0            NaN   \n",
      "1         0.0         0.0         0.0         0.0         2.0            NaN   \n",
      "2         1.0         0.0         0.0         0.0         2.0            2.0   \n",
      "3         2.0         0.0         0.0         0.0         2.0            2.0   \n",
      "4         0.0         0.0         0.0         0.0         2.0            NaN   \n",
      "\n",
      "   STOCKTRANSIGN  PUBSTATE  \n",
      "0            NaN       3.0  \n",
      "1            NaN       3.0  \n",
      "2            2.0       3.0  \n",
      "3            2.0       3.0  \n",
      "4            NaN       3.0  \n",
      "                                                 id  ANCHEYEAR  STATE  FUNDAM  \\\n",
      "0  175ebe5f059ec05007223e9af0a48b885f4cbfa833d93eed          6    8.0     0.0   \n",
      "1  175ebe5f059ec05036d901021be6da41057ae3ee1fe6b8bb          6    8.0     0.0   \n",
      "2  175ebe5f059ec050efe07058fc35890a2b8858a6795a2e24          6    6.0     0.0   \n",
      "3  216bd2aaf4d0792406c041069b786b3bcb5baa4cf80d5987          3    2.0     0.0   \n",
      "4  216bd2aaf4d079240c2b8f7bbf3177618ad289f21af0221e          6    8.0     0.0   \n",
      "\n",
      "   EMPNUM  EMPNUMSIGN  BUSSTNAME  COLGRANUM  RETSOLNUM  DISPERNUM  UNENUM  \\\n",
      "0    65.0         8.0        4.0        0.0        0.0        0.0     0.0   \n",
      "1    76.0         7.0        4.0       10.0        0.0        0.0     0.0   \n",
      "2    98.0         6.0        3.0        4.0        0.0        0.0     0.0   \n",
      "3     4.0         1.0        1.0        2.0        0.0        0.0     0.0   \n",
      "4     0.0         7.0        8.0        0.0        0.0        0.0     0.0   \n",
      "\n",
      "   COLEMPLNUM  RETEMPLNUM  DISEMPLNUM  UNEEMPLNUM  WEBSITSIGN  FORINVESTSIGN  \\\n",
      "0         0.0         0.0         0.0         0.0         8.0            8.0   \n",
      "1        48.0         0.0         0.0         0.0         4.0            8.0   \n",
      "2        29.0         0.0         0.0        24.0         6.0            6.0   \n",
      "3         2.0         0.0         0.0         0.0         2.0            2.0   \n",
      "4         0.0         0.0         0.0         0.0         8.0            8.0   \n",
      "\n",
      "   STOCKTRANSIGN  PUBSTATE  \n",
      "0            7.0      11.0  \n",
      "1            7.0      11.0  \n",
      "2            6.0       7.0  \n",
      "3            2.0       2.0  \n",
      "4            0.0       9.0  \n",
      "(8937, 19)\n"
     ]
    }
   ],
   "source": [
    "# 如何从大量的空值中 提取到有用信息 #\n",
    "df_anreport_info = pd.read_csv(t_annual_report_info, header=0)\n",
    "print(df_anreport_info.shape)\n",
    "# df_anreport_info['ANCHEYEAR'].value_counts()\n",
    "# df_anreport_info['STATE'].value_counts()\n",
    "# df_anreport_info.iloc[:, 0:13] \n",
    "# df_anreport_info['FUNDAM'].value_counts()\n",
    "\n",
    "dict_year = {\"2015.0\": 0, \"2016.0\": 1, \"2017.0\": 2, \"2018.0\": 3}\n",
    "df_anreport_info['ANCHEYEAR'] = df_anreport_info['ANCHEYEAR'].map(lambda x : dict_year[str(x)])\n",
    "\n",
    "# df_anreport_info['MEMNUM'].value_counts() \n",
    "# df_anreport_info['MEMNUM'].isnull().sum(axis=0) #空值太多\n",
    "del df_anreport_info['MEMNUM']\n",
    "df_anreport_info.head()\n",
    "# df_anreport_info['FARNUM'].value_counts() \n",
    "# df_anreport_info['FARNUM'].isnull().sum(axis=0) #空值太多\n",
    "del df_anreport_info['FARNUM']\n",
    "\n",
    "# df_anreport_info['ANNNEWMEMNUM'].value_counts() \n",
    "# df_anreport_info['ANNNEWMEMNUM'].isnull().sum(axis=0) #空值太多\n",
    "del df_anreport_info['ANNNEWMEMNUM']\n",
    "\n",
    "# df_anreport_info['ANNREDMEMNUM'].value_counts() \n",
    "# df_anreport_info['ANNREDMEMNUM'].isnull().sum(axis=0) #空值太多\n",
    "del df_anreport_info['ANNREDMEMNUM']\n",
    "\n",
    "# df_anreport_info['EMPNUM'].value_counts() \n",
    "# df_anreport_info['EMPNUMSIGN'].value_counts() \n",
    "\n",
    "# df_anreport_info['BUSSTNAME'].fillna(\"无\")\n",
    "df_anreport_info['BUSSTNAME'].value_counts() \n",
    "dict_bsnm = { \"开业\": 1, \"歇业\": 2, \"停业\": 3, \"清算\": 4}\n",
    "df_anreport_info['BUSSTNAME'] = df_anreport_info['BUSSTNAME'].map(dict_bsnm)\n",
    "df_anreport_info['BUSSTNAME'].fillna(0, inplace=True)\n",
    "\n",
    "df_anreport_info['COLGRANUM'].value_counts() \n",
    "df_anreport_info['RETSOLNUM'].value_counts() \n",
    "df_anreport_info['DISPERNUM'].value_counts() \n",
    "df_anreport_info['UNENUM'].value_counts() \n",
    "df_anreport_info['COLEMPLNUM'].value_counts() \n",
    "df_anreport_info['RETEMPLNUM'].value_counts() \n",
    "df_anreport_info['DISEMPLNUM'].value_counts() \n",
    "df_anreport_info['WEBSITSIGN'].value_counts() \n",
    "df_anreport_info['FORINVESTSIGN'].value_counts() \n",
    "df_anreport_info['STOCKTRANSIGN'].value_counts() \n",
    "df_anreport_info['PUBSTATE'].value_counts() \n",
    "print(df_anreport_info.head())\n",
    "\n",
    "df_anreport_info = df_anreport_info.groupby(['id'], as_index=False).sum()\n",
    "print(df_anreport_info.head())\n",
    "print(df_anreport_info.shape)\n"
   ]
  },
  {
   "cell_type": "code",
   "execution_count": 22,
   "metadata": {},
   "outputs": [
    {
     "output_type": "stream",
     "name": "stdout",
     "text": [
      "(8937, 19)\n"
     ]
    }
   ],
   "source": [
    "print(df_anreport_info.shape)"
   ]
  },
  {
   "cell_type": "code",
   "execution_count": 23,
   "metadata": {},
   "outputs": [
    {
     "output_type": "stream",
     "name": "stdout",
     "text": [
      "<class 'pandas.core.frame.DataFrame'>\nInt64Index: 14865 entries, 0 to 14864\nColumns: 611 entries, id to PUBSTATE\ndtypes: float64(609), int64(1), object(1)\nmemory usage: 69.4+ MB\n"
     ]
    }
   ],
   "source": [
    "training_set = pd.merge(training_set, df_anreport_info, how='left', on='id')\n",
    "training_set.info()"
   ]
  },
  {
   "cell_type": "code",
   "execution_count": 24,
   "metadata": {},
   "outputs": [
    {
     "output_type": "execute_result",
     "data": {
      "text/plain": [
       "(14865, 611)"
      ]
     },
     "metadata": {},
     "execution_count": 24
    }
   ],
   "source": [
    "training_set.shape"
   ]
  },
  {
   "source": [
    "### base_info.csv"
   ],
   "cell_type": "markdown",
   "metadata": {}
  },
  {
   "cell_type": "code",
   "execution_count": 25,
   "metadata": {
    "tags": []
   },
   "outputs": [
    {
     "output_type": "stream",
     "name": "stdout",
     "text": [
      "(24865, 33)\n"
     ]
    },
    {
     "output_type": "execute_result",
     "data": {
      "text/plain": [
       "(24865, 22)"
      ]
     },
     "metadata": {},
     "execution_count": 25
    }
   ],
   "source": [
    "df_base_info = pd.read_csv(t_base_info, header=0)\n",
    "print(df_base_info.shape)\n",
    "\n",
    "df_base_info['oplocdistrict'].value_counts() \n",
    "dict_oplocdistrict = {}\n",
    "cnt = 0\n",
    "for e in df_base_info['oplocdistrict'].unique():\n",
    "    if e in dict_oplocdistrict: continue\n",
    "    else:\n",
    "        dict_oplocdistrict[e] = cnt \n",
    "        cnt += 1\n",
    "# print(dict_oplocdistrict)\n",
    "df_base_info['oplocdistrict'] = df_base_info['oplocdistrict'].map(dict_oplocdistrict)\n",
    "\n",
    "df_base_info['industryphy'].value_counts() \n",
    "dict_industryphy = {}\n",
    "cnt = 0\n",
    "for e in df_base_info['industryphy'].unique():\n",
    "    if e in dict_industryphy: continue\n",
    "    else:\n",
    "        dict_industryphy[e] = cnt \n",
    "        cnt += 1\n",
    "# print(dict_industryphy)\n",
    "df_base_info['industryphy'] = df_base_info['industryphy'].map(dict_industryphy)\n",
    "\n",
    "df_base_info['industryco'].value_counts() \n",
    "dict_industryco = {}\n",
    "cnt = 0\n",
    "for e in df_base_info['industryco'].unique():\n",
    "    if e in dict_industryco: continue\n",
    "    else:\n",
    "        dict_industryco[e] = cnt \n",
    "        cnt += 1\n",
    "# print(dict_industryco)\n",
    "df_base_info['industryco'] = df_base_info['industryco'].map(dict_industryco)\n",
    "\n",
    "df_base_info['dom'].value_counts() \n",
    "del df_base_info['dom']\n",
    "del df_base_info['opscope']\n",
    "\n",
    "df_base_info['enttype'].value_counts() \n",
    "dict_enttype = {}\n",
    "cnt = 0\n",
    "for e in df_base_info['enttype'].unique():\n",
    "    if e in dict_enttype: continue\n",
    "    else:\n",
    "        dict_enttype[e] = cnt \n",
    "        cnt += 1\n",
    "# print(dict_enttype)\n",
    "df_base_info['enttype'] = df_base_info['enttype'].map(dict_enttype)\n",
    "# df_base_info['enttype'].fillna(0, inplace=True)\n",
    "\n",
    "\n",
    "df_base_info['enttypeitem'].value_counts() \n",
    "dict_enttypeitem = {}\n",
    "cnt = 0\n",
    "for e in df_base_info['enttypeitem'].unique():\n",
    "    if e in dict_enttypeitem: continue\n",
    "    else:\n",
    "        dict_enttypeitem[e] = cnt \n",
    "        cnt += 1\n",
    "# print(dict_enttypeitem)\n",
    "df_base_info['enttypeitem'] = df_base_info['enttypeitem'].map(dict_enttypeitem)\n",
    "\n",
    "del df_base_info['opfrom']\n",
    "del df_base_info['opto']\n",
    "\n",
    "\n",
    "df_base_info['state'].value_counts()\n",
    "dict_state = {}\n",
    "cnt = 0\n",
    "for e in df_base_info['state'].unique():\n",
    "    if e in dict_state: continue\n",
    "    else:\n",
    "        dict_state[e] = cnt \n",
    "        cnt += 1\n",
    "# print(dict_state)\n",
    "df_base_info['state'] = df_base_info['state'].map(dict_state)\n",
    "\n",
    "del df_base_info['orgid']\n",
    "del df_base_info['jobid']\n",
    "\n",
    "df_base_info['adbusign'].value_counts()\n",
    "df_base_info['townsign'].value_counts()\n",
    "df_base_info['regtype'].value_counts()\n",
    "df_base_info['empnum'].value_counts()\n",
    "df_base_info['compform'].value_counts()\n",
    "df_base_info['parnum'].value_counts()\n",
    "df_base_info['exenum'].value_counts()\n",
    "\n",
    "\n",
    "df_base_info['opform'].value_counts()\n",
    "dict_opform = {}\n",
    "cnt = 0\n",
    "for e in df_base_info['opform'].unique():\n",
    "    if e in dict_opform: continue\n",
    "    else:\n",
    "        dict_opform[e] = cnt \n",
    "        cnt += 1\n",
    "# print(dict_opform)\n",
    "df_base_info['opform'] = df_base_info['opform'].map(dict_opform)\n",
    "\n",
    "df_base_info['ptbusscope'].value_counts()\n",
    "del df_base_info['ptbusscope']\n",
    "\n",
    "df_base_info['venind'].value_counts()\n",
    "\n",
    "df_base_info['enttypeminu'].value_counts()\n",
    "dict_enttypeminu = {}\n",
    "cnt = 0\n",
    "for e in df_base_info['enttypeminu'].unique():\n",
    "    if e in dict_enttypeminu: continue\n",
    "    else:\n",
    "        dict_enttypeminu[e] = cnt \n",
    "        cnt += 1\n",
    "# print(dict_enttypeminu)\n",
    "df_base_info['enttypeminu'] = df_base_info['enttypeminu'].map(dict_enttypeminu)\n",
    "df_base_info['midpreindcode'].value_counts()\n",
    "del df_base_info['midpreindcode']\n",
    "\n",
    "df_base_info['protype'].value_counts() #空值太多\n",
    "del df_base_info['protype']\n",
    "df_base_info['oploc'].value_counts() \n",
    "del df_base_info['oploc']\n",
    "\n",
    "df_base_info['regcap'].value_counts() \n",
    "df_base_info['reccap'].value_counts() \n",
    "df_base_info['forregcap'].value_counts() \n",
    "df_base_info['forreccap'].value_counts() \n",
    "df_base_info['congro'].value_counts() \n",
    "df_base_info['enttypegb'].value_counts() \n",
    "del df_base_info['enttypegb']\n",
    "\n",
    "df_base_info.shape\n",
    "\n",
    "\n"
   ]
  },
  {
   "cell_type": "code",
   "execution_count": 26,
   "metadata": {},
   "outputs": [
    {
     "output_type": "stream",
     "name": "stdout",
     "text": [
      "(14865, 632)\n",
      "<class 'pandas.core.frame.DataFrame'>\n",
      "Int64Index: 14865 entries, 0 to 14864\n",
      "Columns: 632 entries, id to congro\n",
      "dtypes: float64(619), int64(12), object(1)\n",
      "memory usage: 71.8+ MB\n",
      "None\n",
      "                                                 id  label  \\\n",
      "0  09912c34159b1720558a419983a989f1dd2e0ed69a044ca3      0   \n",
      "1  0ba26b418aa50d3c35e3d01d414b2c9f07efa6997fbf4394      0   \n",
      "2  0ba26b418aa50d3ca37396f2819750892b17f0dce3d7493c      0   \n",
      "3  175ebe5f059ec05007223e9af0a48b885f4cbfa833d93eed      0   \n",
      "4  175ebe5f059ec05036d901021be6da41057ae3ee1fe6b8bb      0   \n",
      "\n",
      "   legal_judgment_num  brand_num  patent_num  news_factor  bgcnt  DEDUCTION  \\\n",
      "0                10.0       34.0         4.0     0.473569    9.0        NaN   \n",
      "1                 NaN        NaN         NaN          NaN    5.0        NaN   \n",
      "2                 NaN        6.0         NaN          NaN    NaN        NaN   \n",
      "3                 NaN        NaN         NaN          NaN   11.0        NaN   \n",
      "4                 NaN        NaN         NaN          NaN   15.0        NaN   \n",
      "\n",
      "   TAX_AMOUNT  (DEDUCTION, 0)  ...  parnum  exenum  opform  venind  \\\n",
      "0         NaN             NaN  ...     NaN     NaN       0     NaN   \n",
      "1         NaN             NaN  ...     NaN     NaN       0     NaN   \n",
      "2         NaN             NaN  ...     NaN     NaN       0     NaN   \n",
      "3         NaN             NaN  ...     NaN     NaN       0     NaN   \n",
      "4         NaN             NaN  ...     NaN     NaN       0     NaN   \n",
      "\n",
      "   enttypeminu      regcap     reccap  forreccap  forregcap  congro  \n",
      "0            1   3851.9284  2232.5414        NaN        NaN     NaN  \n",
      "1            1    500.0000        NaN        NaN        NaN     NaN  \n",
      "2            1   1000.0000        NaN        NaN        NaN     NaN  \n",
      "3            1   1000.0000     0.0000        NaN        NaN     NaN  \n",
      "4            1  10000.0000   200.0000        NaN        NaN     NaN  \n",
      "\n",
      "[5 rows x 632 columns]\n"
     ]
    }
   ],
   "source": [
    "training_set = pd.merge(training_set, df_base_info, how='left', on='id')\n",
    "print(training_set.shape)\n",
    "print(training_set.info())\n",
    "print(training_set.head())\n"
   ]
  }
 ]
}